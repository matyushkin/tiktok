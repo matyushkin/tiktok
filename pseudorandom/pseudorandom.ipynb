{
 "cells": [
  {
   "cell_type": "markdown",
   "metadata": {},
   "source": [
    "# Поиск \"эгоистичных\" чисел для метода середины квадрата\n",
    "\n",
    "В [предыдущем видео]() я рассказал, как [фон Нейман](https://ru.wikipedia.org/wiki/%D0%9D%D0%B5%D0%B9%D0%BC%D0%B0%D0%BD,_%D0%94%D0%B6%D0%BE%D0%BD_%D1%84%D0%BE%D0%BD) предложил первый генератор псевдослучайных чисел.\n",
    "\n",
    "Идея проста: берем для начала любое четырехзначное число. Возводим его в квадрат. Если цифр меньше 8, дополняем слева нулями. Теперь выделяем 4 средние цифры. Получилось первое число случайной последовательности. Далее повторяем процедуру необходимое число раз.\n",
    "\n",
    "Фон Нейман предполагал, что цепочка чисел будет случайным образом равномерно заполнять интервал четырехзначных чисел без предсказуемых повторений, но, к сожалению, оказался неправ.\n",
    "\n",
    "Для некоторых последовательностей такой генератор начинает зацикливаться и становится предсказуемым. Существуют даже такие \"эгоистичные\" числа, которые  \"воспроизводят\" только сами себя. То есть при их возвезедении в квадрат в середине 8-значного числа будет исходное 4-х значное.\n",
    "\n",
    "```XXXX^2 = YYXXXXYY```\n",
    "\n",
    "Давайте найдем такие числа с помощью Python."
   ]
  },
  {
   "cell_type": "markdown",
   "metadata": {},
   "source": [
    "## Предварительные сведения\n",
    "\n",
    "Напомним, как дополнять строки в Python до нужного количества знаков. Для этого можно использовать метод `.rjust()`. Первый аргумент — общее число символов, второй — заполняющий символ:"
   ]
  },
  {
   "cell_type": "code",
   "execution_count": 1,
   "metadata": {},
   "outputs": [
    {
     "data": {
      "text/plain": [
       "'00000123'"
      ]
     },
     "execution_count": 1,
     "metadata": {},
     "output_type": "execute_result"
    }
   ],
   "source": [
    "'123'.rjust(8, '0')"
   ]
  },
  {
   "cell_type": "markdown",
   "metadata": {},
   "source": [
    "Вспомним так же про срезы:"
   ]
  },
  {
   "cell_type": "code",
   "execution_count": 2,
   "metadata": {},
   "outputs": [
    {
     "data": {
      "text/plain": [
       "'2345'"
      ]
     },
     "execution_count": 2,
     "metadata": {},
     "output_type": "execute_result"
    }
   ],
   "source": [
    "'01234567'[2:-2]"
   ]
  },
  {
   "cell_type": "markdown",
   "metadata": {},
   "source": [
    "## Пишем функцию\n",
    "\n",
    "Рассмотрим самое полное представление четырехзначных чисел — от `0000` до `9999`, ведь генератор может начать повторяться и в середине работы алгоритма."
   ]
  },
  {
   "cell_type": "code",
   "execution_count": 3,
   "metadata": {},
   "outputs": [
    {
     "data": {
      "text/plain": [
       "[0, 100, 2500, 3792, 7600]"
      ]
     },
     "execution_count": 3,
     "metadata": {},
     "output_type": "execute_result"
    }
   ],
   "source": [
    "def find_egoists():\n",
    "    egoists = []\n",
    "    for i in range(10**4):\n",
    "        s = str(i**2).rjust(8, '0')\n",
    "        if int(s[2:-2]) == i:\n",
    "            egoists.append(i)\n",
    "    return egoists\n",
    "            \n",
    "find_egoists()"
   ]
  },
  {
   "cell_type": "markdown",
   "metadata": {},
   "source": [
    "Проверим корректность работы функции — сравним число и его квадрат в 8-значном представлении:"
   ]
  },
  {
   "cell_type": "code",
   "execution_count": 4,
   "metadata": {},
   "outputs": [
    {
     "name": "stdout",
     "output_type": "stream",
     "text": [
      "0000 00000000\n",
      "0100 00010000\n",
      "2500 06250000\n",
      "3792 14379264\n",
      "7600 57760000\n"
     ]
    }
   ],
   "source": [
    "for i in find_egoists():\n",
    "    print(str(i).rjust(4, '0'),\n",
    "          str(i**2).rjust(8, '0'))"
   ]
  }
 ],
 "metadata": {
  "kernelspec": {
   "display_name": "Python 3",
   "language": "python",
   "name": "python3"
  },
  "language_info": {
   "codemirror_mode": {
    "name": "ipython",
    "version": 3
   },
   "file_extension": ".py",
   "mimetype": "text/x-python",
   "name": "python",
   "nbconvert_exporter": "python",
   "pygments_lexer": "ipython3",
   "version": "3.8.5"
  }
 },
 "nbformat": 4,
 "nbformat_minor": 4
}
